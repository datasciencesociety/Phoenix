{
 "cells": [
  {
   "cell_type": "code",
   "execution_count": 187,
   "metadata": {},
   "outputs": [],
   "source": [
    "import os\n",
    "import glob\n",
    "import pickle\n",
    "\n",
    "from PIL import Image\n",
    "from resizeimage import resizeimage\n",
    "from lxml.html import fromstring\n",
    "from sklearn.cluster import KMeans\n"
   ]
  },
  {
   "cell_type": "markdown",
   "metadata": {},
   "source": [
    "# Process Images to Managable Format"
   ]
  },
  {
   "cell_type": "code",
   "execution_count": 37,
   "metadata": {},
   "outputs": [],
   "source": [
    "def resizeImg(input_folder, output_folder):\n",
    "    fileNames = glob.glob(input_folder + \"\\*.jpg\")\n",
    "    print(input_folder + \"\\*.jpg\")\n",
    "    for fileName in fileNames:\n",
    "        imgId = fileName.split(\"\\\\\")[-1].split(\".\")[0]\n",
    "        with open(fileName, 'r+b') as f:\n",
    "            with Image.open(f) as image:\n",
    "                cover = resizeimage.resize_cover(image, [400, 300])\n",
    "                cover.save(output_folder + \"\\\\\" + imgId + \"_small.jpg\", image.format)"
   ]
  },
  {
   "cell_type": "code",
   "execution_count": 49,
   "metadata": {},
   "outputs": [],
   "source": [
    "#Define Input Directory\n",
    "train_xml = r\"C:\\Users\\c10670A\\Documents\\Python Scripts\\03. Projects\\Kaufland_Case\\Kaufland_DataThon+2019_04_participants\\ground_truth_xml\"\n",
    "val_xml = r\"C:\\Users\\c10670A\\Documents\\Python Scripts\\03. Projects\\Kaufland_Case\\Kaufland_DataThon+2019_04_participants\\working_xml\"\n",
    "test_xml = r\"C:\\Users\\c10670A\\Documents\\Python Scripts\\03. Projects\\Kaufland_Case\\Kaufland_DataThon_2019_testset_xml\\test_xml_edited\"\n",
    "gen_xml = r\"C:\\Users\\c10670A\\Documents\\Python Scripts\\03. Projects\\Kaufland_Case\\datathon-datathon-2019_04_1-computer-vision\\Images\"\n",
    "\n",
    "#Define Input Directory\n",
    "train_images = r\"C:\\Users\\c10670A\\Documents\\Python Scripts\\03. Projects\\Kaufland_Case\\Kaufland_DataThon+2019_04_participants\\ground_truth\"\n",
    "val_images = r\"C:\\Users\\c10670A\\Documents\\Python Scripts\\03. Projects\\Kaufland_Case\\Kaufland_DataThon+2019_04_participants\\working\"\n",
    "test_images = r\"C:\\Users\\c10670A\\Documents\\Python Scripts\\03. Projects\\Kaufland_Case\\Kaufland_DataThon_2019_testset_images\\test\"\n",
    "gen_images = r\"C:\\Users\\c10670A\\Documents\\Python Scripts\\03. Projects\\Kaufland_Case\\datathon-datathon-2019_04_1-computer-vision\\Images\"\n",
    "\n",
    "\n",
    "#Define Output dir\n",
    "processed_data = r\"C:\\Users\\c10670A\\Documents\\Python Scripts\\03. Projects\\Kaufland_Case\\Processed_Data\"\n",
    "train_output = os.path.join(processed_data, \"train\")\n",
    "val_output = os.path.join(processed_data, \"val\")\n",
    "test_output = os.path.join(processed_data, \"test\")\n",
    "gen_output = os.path.join(processed_data, \"gen\")\n",
    "\n",
    "\n"
   ]
  },
  {
   "cell_type": "code",
   "execution_count": 39,
   "metadata": {},
   "outputs": [
    {
     "name": "stdout",
     "output_type": "stream",
     "text": [
      "C:\\Users\\c10670A\\Documents\\Python Scripts\\03. Projects\\Kaufland_Case\\Kaufland_DataThon+2019_04_participants\\ground_truth\\*.jpg\n"
     ]
    }
   ],
   "source": [
    "resizeImg(train_images, train_output)"
   ]
  },
  {
   "cell_type": "code",
   "execution_count": 40,
   "metadata": {},
   "outputs": [
    {
     "name": "stdout",
     "output_type": "stream",
     "text": [
      "C:\\Users\\c10670A\\Documents\\Python Scripts\\03. Projects\\Kaufland_Case\\Kaufland_DataThon+2019_04_participants\\working\\*.jpg\n"
     ]
    }
   ],
   "source": [
    "resizeImg(val_images, val_output)"
   ]
  },
  {
   "cell_type": "code",
   "execution_count": 41,
   "metadata": {},
   "outputs": [
    {
     "name": "stdout",
     "output_type": "stream",
     "text": [
      "C:\\Users\\c10670A\\Documents\\Python Scripts\\03. Projects\\Kaufland_Case\\Kaufland_DataThon_2019_testset_images\\test\\*.jpg\n"
     ]
    }
   ],
   "source": [
    "resizeImg(test_images, test_output)"
   ]
  },
  {
   "cell_type": "code",
   "execution_count": 42,
   "metadata": {},
   "outputs": [
    {
     "name": "stdout",
     "output_type": "stream",
     "text": [
      "C:\\Users\\c10670A\\Documents\\Python Scripts\\03. Projects\\Kaufland_Case\\datathon-datathon-2019_04_1-computer-vision\\Images\\*.jpg\n"
     ]
    }
   ],
   "source": [
    "resizeImg(gen_images, gen_output)"
   ]
  },
  {
   "cell_type": "markdown",
   "metadata": {},
   "source": [
    "# Load XML Data"
   ]
  },
  {
   "cell_type": "markdown",
   "metadata": {},
   "source": [
    "## Load Development Data"
   ]
  },
  {
   "cell_type": "code",
   "execution_count": 177,
   "metadata": {},
   "outputs": [],
   "source": [
    "def name2cat(x):\n",
    "    if x.startswith(\"label\"):\n",
    "        return \"0\"\n",
    "    elif x.isnumeric():\n",
    "        return \"1\"\n",
    "    else:\n",
    "        return \"other\"\n",
    "\n",
    "def processFile(filename, img_folder):\n",
    "    f = open(filename, \"r\")\n",
    "    text = f.read()\n",
    "    f.close()\n",
    "    \n",
    "    xml = fromstring(text)\n",
    "    xmin = map(scaleSize, xml.xpath(\"//xmin/text()\"))\n",
    "    xmax = map(scaleSize, xml.xpath(\"//xmax/text()\"))\n",
    "    ymin = map(scaleSize, xml.xpath(\"//ymin/text()\"))\n",
    "    ymax = map(scaleSize, xml.xpath(\"//ymax/text()\"))\n",
    "    name = xml.xpath(\"//name/text()\")\n",
    "    cat = [name2cat(x) for x in name]\n",
    "    \n",
    "    row = \" \".join([\",\".join(x) for x in zip(xmin, ymin, xmax, ymax, cat) if x[4] != \"other\"])\n",
    "    return os.path.join(img_folder, filename.split(\"\\\\\")[-1].replace(\".xml\", \"_small.jpg\").replace(\"_xml\", \"\")) \\\n",
    "                + \" \" + row\n",
    "\n",
    "\n",
    "def processFilePickle(filename, img_folder):\n",
    "    f = pickle.load(open(filename, \"rb\" ))\n",
    "    xmin = [scaleSize(x['object']['bndbox']['xmin']) for x in f]\n",
    "    xmax = [scaleSize(x['object']['bndbox']['xmax']) for x in f]\n",
    "    ymin = [scaleSize(x['object']['bndbox']['ymin']) for x in f]\n",
    "    ymax = [scaleSize(x['object']['bndbox']['ymax']) for x in f]\n",
    "    cat = [name2cat(x['object']['name']) for x in f]\n",
    "    \n",
    "    row = \" \".join([\",\".join(x) for x in zip(xmin, ymin, xmax, ymax, cat) if x[4] != \"other\"])\n",
    "    return os.path.join(img_folder, filename.split(\"\\\\\")[-1].replace(\".pkl\", \"_small.jpg\")) \\\n",
    "                + \" \" + row\n",
    "\n",
    "def scaleSize(x):\n",
    "    return str(int(int(x) / 11.52))\n",
    "\n",
    "def loadData(xml_folder, img_folder):\n",
    "    fileNames = glob.glob(xml_folder + \"\\*.xml\")\n",
    "    return \"\\n\".join([processFile(fileName, img_folder) for fileName in fileNames])\n",
    "\n",
    "def loadDataPickle(pkl_folder, img_folder):\n",
    "    fileNames = glob.glob(pkl_folder + \"\\*.pkl\")\n",
    "    return \"\\n\".join([processFilePickle(fileName, img_folder) for fileName in fileNames])"
   ]
  },
  {
   "cell_type": "code",
   "execution_count": 140,
   "metadata": {},
   "outputs": [],
   "source": [
    "dev_data = loadData(train_xml, train_output)"
   ]
  },
  {
   "cell_type": "code",
   "execution_count": 143,
   "metadata": {},
   "outputs": [],
   "source": [
    "f = open(\"Processed_XMLs\\\\dev_data.txt\", \"w\")\n",
    "f.write(dev_data)\n",
    "f.close()"
   ]
  },
  {
   "cell_type": "code",
   "execution_count": 141,
   "metadata": {},
   "outputs": [],
   "source": [
    "val_data = loadData(val_xml, val_output)"
   ]
  },
  {
   "cell_type": "code",
   "execution_count": 144,
   "metadata": {},
   "outputs": [],
   "source": [
    "f = open(\"Processed_XMLs\\\\val_data.txt\", \"w\")\n",
    "f.write(val_data)\n",
    "f.close()"
   ]
  },
  {
   "cell_type": "code",
   "execution_count": 142,
   "metadata": {},
   "outputs": [],
   "source": [
    "test_data = loadData(test_xml, test_output)"
   ]
  },
  {
   "cell_type": "code",
   "execution_count": 145,
   "metadata": {},
   "outputs": [],
   "source": [
    "f = open(\"Processed_XMLs\\\\test_data.txt\", \"w\")\n",
    "f.write(test_data)\n",
    "f.close()"
   ]
  },
  {
   "cell_type": "code",
   "execution_count": 178,
   "metadata": {},
   "outputs": [],
   "source": [
    "gen_data = loadDataPickle(gen_xml, gen_output)"
   ]
  },
  {
   "cell_type": "code",
   "execution_count": 179,
   "metadata": {},
   "outputs": [],
   "source": [
    "f = open(\"Processed_XMLs\\\\gen_data.txt\", \"w\")\n",
    "f.write(gen_data)\n",
    "f.close()"
   ]
  },
  {
   "cell_type": "code",
   "execution_count": null,
   "metadata": {},
   "outputs": [],
   "source": []
  },
  {
   "cell_type": "code",
   "execution_count": null,
   "metadata": {},
   "outputs": [],
   "source": []
  },
  {
   "cell_type": "markdown",
   "metadata": {},
   "source": [
    "# Anchors"
   ]
  },
  {
   "cell_type": "code",
   "execution_count": 186,
   "metadata": {},
   "outputs": [],
   "source": [
    "def calcAnchors(folder):\n",
    "    result = []\n",
    "    fileNames = glob.glob(folder + \"\\*.xml\")\n",
    "    \n",
    "    for fileName in fileNames:\n",
    "        x = processAnchor(fileName)\n",
    "        result += x\n",
    "        \n",
    "    return result\n",
    "\n",
    "def processAnchorTupple(x):\n",
    "    return int(int(x[0]) / 11.52) - int(int(x[1]) / 11.52)\n",
    "\n",
    "def processAnchor(filename):\n",
    "    f = open(filename, \"r\")\n",
    "    text = f.read()\n",
    "    f.close()\n",
    "    \n",
    "    xml = fromstring(text)\n",
    "    xmin = xml.xpath(\"//xmin/text()\")\n",
    "    xmax = xml.xpath(\"//xmax/text()\")\n",
    "    ymin = xml.xpath(\"//ymin/text()\")\n",
    "    ymax = xml.xpath(\"//ymax/text()\")\n",
    "    \n",
    "    x = [processAnchorTupple(d) for d in zip(xmax, xmin)]\n",
    "    y = [processAnchorTupple(d) for d in zip(ymax, ymin)]\n",
    "    return [z for z in zip(x, y)]"
   ]
  },
  {
   "cell_type": "code",
   "execution_count": 188,
   "metadata": {},
   "outputs": [],
   "source": [
    "#calc ancors\n",
    "anc_train = calcAnchors(train_xml)\n",
    "kmeans = KMeans(n_clusters=10, random_state=0).fit(anc)\n",
    "f = open(\"ancors.txt\", \"w\")\n",
    "f.write(\", \".join([\",\".join(map(str, map(int, x))) for x in kmeans.cluster_centers_]))\n",
    "f.close()"
   ]
  },
  {
   "cell_type": "code",
   "execution_count": null,
   "metadata": {},
   "outputs": [],
   "source": []
  }
 ],
 "metadata": {
  "kernelspec": {
   "display_name": "Python 3 TF",
   "language": "python",
   "name": "python3_tf"
  },
  "language_info": {
   "codemirror_mode": {
    "name": "ipython",
    "version": 3
   },
   "file_extension": ".py",
   "mimetype": "text/x-python",
   "name": "python",
   "nbconvert_exporter": "python",
   "pygments_lexer": "ipython3",
   "version": "3.7.1"
  }
 },
 "nbformat": 4,
 "nbformat_minor": 2
}
