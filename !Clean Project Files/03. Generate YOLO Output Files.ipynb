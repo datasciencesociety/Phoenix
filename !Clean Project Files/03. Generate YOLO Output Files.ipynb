{
 "cells": [
  {
   "cell_type": "code",
   "execution_count": null,
   "metadata": {},
   "outputs": [],
   "source": [
    "import sys\n",
    "import argparse\n",
    "from yolo import YOLO, detect_video\n",
    "from PIL import Image\n",
    "import cv2"
   ]
  },
  {
   "cell_type": "markdown",
   "metadata": {},
   "source": [
    "# Process all input data"
   ]
  },
  {
   "cell_type": "code",
   "execution_count": 1,
   "metadata": {},
   "outputs": [],
   "source": [
    "def loadFiles(fileName):\n",
    "    result = []\n",
    "    f = open(fileName, \"r\")\n",
    "\n",
    "    for l in f:\n",
    "        l = l.replace(\"C:\\\\Users\\\\c10670A\\\\Documents\\\\Python Scripts\\\\03. Projects\\\\Kaufland_Case\\\\\", \"/workspace/strabron/\").replace(\"\\\\\",\"/\")\n",
    "        result.append(l.split(\" \")[0])\n",
    "    f.close()\n",
    "    \n",
    "    return result\n",
    "\n",
    "\n",
    "def processImage(yolo, fileName, result):\n",
    "    \n",
    "    vid = cv2.VideoCapture(fileName)\n",
    "    return_value, frame = vid.read()\n",
    "\n",
    "    image = Image.fromarray(frame)\n",
    "    \n",
    "    image, out_boxes, out_scores, out_classes = yolo.detect_image(image)\n",
    "    \n",
    "    for x, c in enumerate(out_classes):\n",
    "        top, left, bottom, right = out_boxes[x]\n",
    "        top = str(max(0, int(top)))\n",
    "        left = str(max(0, int(left)))\n",
    "        bottom = str(min(320, int(bottom)))\n",
    "        right = str(min(416, int(right)))\n",
    "        box = [left, top, right, bottom]\n",
    "        row = [fileName, str(out_classes[x]), str(out_scores[x])] + box\n",
    "        result.append(\",\".join(row))"
   ]
  },
  {
   "cell_type": "code",
   "execution_count": null,
   "metadata": {},
   "outputs": [],
   "source": [
    "files = loadFiles(\"/workspace/strabron/Processed_XMLs/dev_data.txt\")\n",
    "result = []\n",
    "yolo = YOLO()\n",
    "for fn in files:\n",
    "    processImage(yolo, fn, result)\n",
    "f = open(\"output.txt\", \"w\")\n",
    "f.write(\"\\n\".join(result))\n",
    "f.close()"
   ]
  },
  {
   "cell_type": "code",
   "execution_count": null,
   "metadata": {},
   "outputs": [],
   "source": [
    "files = loadFiles(\"/workspace/strabron/Processed_XMLs/val_data.txt\")\n",
    "result = []\n",
    "for fn in files:\n",
    "    processImage(yolo, fn, result)\n",
    "f = open(\"output-working.txt\", \"w\")\n",
    "f.write(\"\\n\".join(result))\n",
    "f.close()"
   ]
  },
  {
   "cell_type": "code",
   "execution_count": null,
   "metadata": {},
   "outputs": [],
   "source": [
    "files = loadFiles(\"/workspace/strabron/Processed_XMLs/test_data.txt\")\n",
    "result = []\n",
    "for fn in files:\n",
    "    processImage(yolo, fn, result)\n",
    "f = open(\"output-test.txt\", \"w\")\n",
    "f.write(\"\\n\".join(result))\n",
    "f.close()"
   ]
  }
 ],
 "metadata": {
  "kernelspec": {
   "display_name": "Python 3 TF",
   "language": "python",
   "name": "python3_tf"
  },
  "language_info": {
   "codemirror_mode": {
    "name": "ipython",
    "version": 3
   },
   "file_extension": ".py",
   "mimetype": "text/x-python",
   "name": "python",
   "nbconvert_exporter": "python",
   "pygments_lexer": "ipython3",
   "version": "3.7.1"
  }
 },
 "nbformat": 4,
 "nbformat_minor": 2
}
